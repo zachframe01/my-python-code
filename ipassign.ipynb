{
 "cells": [
  {
   "cell_type": "markdown",
   "id": "6d543461",
   "metadata": {},
   "source": [
    "Opened: Wednesday, October 1, 2025, 12:00 AM\n",
    "Due: Friday, October 17, 2025, 12:00 AM\n",
    "This program will read a provided hosts file and display whether the host is in the hosts file using a nested for loop iterating through the following IP addresses:\n",
    "\n",
    "172.16.10.(1-254) and 172.16.11.(1-254). \n",
    "\n",
    "The result file should have the following: \n",
    "\n",
    "Header: IP, Status (in host file or not in host file)\n",
    "\n",
    "Result file example:\n",
    "\n",
    "IP, Hosts file?         \n",
    "\n",
    "172.16.10.5,Successful\n",
    "\n",
    "172.16.10.6,Failed\n",
    "\n",
    "172.16.10.50,Successful\n",
    "\n"
   ]
  },
  {
   "cell_type": "code",
   "execution_count": 87,
   "id": "f3c54909",
   "metadata": {},
   "outputs": [
    {
     "name": "stdout",
     "output_type": "stream",
     "text": [
      "                                      0               1\n",
      "0                             127.0.0.1       localhost\n",
      "1                           172.16.10.1  SVR1.mynet.com\n",
      "2                           172.16.10.2  SVR2.mynet.com\n",
      "3                           172.16.10.3  SVR3.mynet.com\n",
      "4                           172.16.10.4  SVR4.mynet.com\n",
      "..                                  ...             ...\n",
      "163  ::1     ip6-localhost ip6-loopback             NaN\n",
      "164                fe00::0 ip6-localnet             NaN\n",
      "165             ff00::0 ip6-mcastprefix             NaN\n",
      "166                ff02::1 ip6-allnodes             NaN\n",
      "167              ff02::2 ip6-allrouters             NaN\n",
      "\n",
      "[168 rows x 2 columns]\n"
     ]
    }
   ],
   "source": [
    "import pandas as pd\n",
    "\n",
    "df = pd.read_csv(\"hosts\", sep=\"\\t\", header=None, comment=\"#\", on_bad_lines=\"skip\")\n",
    "print(df)\n"
   ]
  },
  {
   "cell_type": "code",
   "execution_count": 88,
   "id": "5b639210",
   "metadata": {},
   "outputs": [
    {
     "name": "stdout",
     "output_type": "stream",
     "text": [
      "1        172.16.10.1\n",
      "2        172.16.10.2\n",
      "3        172.16.10.3\n",
      "4        172.16.10.4\n",
      "5        172.16.10.5\n",
      "           ...      \n",
      "158    172.16.11.206\n",
      "159    172.16.11.207\n",
      "160    172.16.11.208\n",
      "161    172.16.11.209\n",
      "162    172.16.11.210\n",
      "Name: 0, Length: 162, dtype: object\n"
     ]
    }
   ],
   "source": [
    "# Option 1: Using pandas - assumes df was read where the first column is the IP (column 0)\n",
    "# We'll convert the first column to string and filter rows that start with '172.16'\n",
    "df[0] = df[0].astype(str)\n",
    "filtered = df[df[0].str.startswith('172.16')]\n",
    "print(filtered[0])\n",
    "\n",
    "\n"
   ]
  },
  {
   "cell_type": "code",
   "execution_count": 90,
   "id": "002e40e8",
   "metadata": {},
   "outputs": [
    {
     "name": "stdout",
     "output_type": "stream",
     "text": [
      "                IP Hosts file?\n",
      "0      172.16.10.1  Successful\n",
      "1      172.16.10.2  Successful\n",
      "2      172.16.10.3  Successful\n",
      "3      172.16.10.4  Successful\n",
      "4      172.16.10.5  Successful\n",
      "..             ...         ...\n",
      "503  172.16.11.250      Failed\n",
      "504  172.16.11.251      Failed\n",
      "505  172.16.11.252      Failed\n",
      "506  172.16.11.253      Failed\n",
      "507  172.16.11.254      Failed\n",
      "\n",
      "[508 rows x 2 columns]\n"
     ]
    }
   ],
   "source": [
    "hosts_set = set(df[0])            # fast membership checks\n",
    "results = []\n",
    "for subnet in ('172.16.10.', '172.16.11.'):\n",
    "    for i in range(1, 255):      # 1..254\n",
    "        ip = f'{subnet}{i}'\n",
    "        status = 'Successful' if ip in hosts_set else 'Failed'\n",
    "        results.append({'IP': ip, 'Hosts file?': status})\n",
    "\n",
    "res_df = pd.DataFrame(results)\n",
    "print(res_df)\n",
    "res_df.to_csv('ip_results.csv')"
   ]
  },
  {
   "cell_type": "code",
   "execution_count": 91,
   "id": "983aa17d",
   "metadata": {},
   "outputs": [
    {
     "name": "stdout",
     "output_type": "stream",
     "text": [
      "                IP Hosts file?\n",
      "0      172.16.10.1  Successful\n",
      "1      172.16.10.2  Successful\n",
      "2      172.16.10.3  Successful\n",
      "3      172.16.10.4  Successful\n",
      "4      172.16.10.5  Successful\n",
      "..             ...         ...\n",
      "503  172.16.11.250      Failed\n",
      "504  172.16.11.251      Failed\n",
      "505  172.16.11.252      Failed\n",
      "506  172.16.11.253      Failed\n",
      "507  172.16.11.254      Failed\n",
      "\n",
      "[508 rows x 2 columns]\n"
     ]
    }
   ],
   "source": [
    "print(res_df)"
   ]
  },
  {
   "cell_type": "code",
   "execution_count": 92,
   "id": "29c1decd",
   "metadata": {},
   "outputs": [
    {
     "name": "stdout",
     "output_type": "stream",
     "text": [
      "                IP Hosts file?\n",
      "0      172.16.10.1  Successful\n",
      "1      172.16.10.2  Successful\n",
      "2      172.16.10.3  Successful\n",
      "3      172.16.10.4  Successful\n",
      "4      172.16.10.5  Successful\n",
      "..             ...         ...\n",
      "503  172.16.11.250      Failed\n",
      "504  172.16.11.251      Failed\n",
      "505  172.16.11.252      Failed\n",
      "506  172.16.11.253      Failed\n",
      "507  172.16.11.254      Failed\n",
      "\n",
      "[508 rows x 2 columns]\n"
     ]
    }
   ],
   "source": [
    "# Option A — vectorized (recommended)\n",
    "ip_df['status'] = ip_df['ip'].isin(df[0]).map({True: 'Successful', False: 'Failed'})\n",
    "ip_df_out = ip_df.rename(columns={'ip': 'IP', 'status': 'Hosts file?'})\n",
    "print(ip_df_out)\n",
    "ip_df_out.to_csv('ip_results.csv2', index=False)\n"
   ]
  }
 ],
 "metadata": {
  "kernelspec": {
   "display_name": "Python 3",
   "language": "python",
   "name": "python3"
  },
  "language_info": {
   "codemirror_mode": {
    "name": "ipython",
    "version": 3
   },
   "file_extension": ".py",
   "mimetype": "text/x-python",
   "name": "python",
   "nbconvert_exporter": "python",
   "pygments_lexer": "ipython3",
   "version": "3.13.3"
  }
 },
 "nbformat": 4,
 "nbformat_minor": 5
}
