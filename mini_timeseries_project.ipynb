{
 "cells": [
  {
   "cell_type": "markdown",
   "id": "ad172abd",
   "metadata": {},
   "source": [
    "# 60‑Minute Mini Project: Forecast a Seasonal Series\n",
    "\n",
    "**Goal:** Beat a seasonal‑naive baseline with Exponential Smoothing (ETS) and report MAE/RMSE.\n",
    "\n",
    "**Deliverables:**\n",
    "- Plot showing train/test, seasonal‑naive, and ETS forecast\n",
    "- Table of MAE/RMSE (seasonal‑naive vs ETS)\n",
    "- 3–5 bullet takeaways\n",
    "\n",
    "Dataset: Monthly CO2 (built into `statsmodels`)."
   ]
  },
  {
   "cell_type": "code",
   "execution_count": null,
   "id": "ff88bc34",
   "metadata": {},
   "outputs": [],
   "source": [
    "import numpy as np\n",
    "import pandas as pd\n",
    "import matplotlib.pyplot as plt\n",
    "from sklearn.metrics import mean_absolute_error, mean_squared_error\n",
    "import statsmodels.api as sm\n",
    "from statsmodels.tsa.holtwinters import ExponentialSmoothing\n",
    "\n",
    "rmse = lambda y, yhat: mean_squared_error(y, yhat, squared=False)"
   ]
  },
  {
   "cell_type": "markdown",
   "id": "8b693321",
   "metadata": {},
   "source": [
    "## 1) Load & visualize"
   ]
  },
  {
   "cell_type": "code",
   "execution_count": null,
   "id": "89bc272b",
   "metadata": {},
   "outputs": [],
   "source": [
    "co2 = sm.datasets.co2.load_pandas().data\n",
    "co2['date'] = pd.to_datetime(co2['date'])\n",
    "s = co2.set_index('date')['co2'].resample('M').mean().ffill()\n",
    "ax = s.plot(title='Monthly CO2 (ppm)'); ax.set_ylabel('ppm'); plt.show()"
   ]
  },
  {
   "cell_type": "markdown",
   "id": "3ec6cf21",
   "metadata": {},
   "source": [
    "## 2) Time‑aware split + seasonal‑naive baseline"
   ]
  },
  {
   "cell_type": "code",
   "execution_count": null,
   "id": "f1ee8d8a",
   "metadata": {},
   "outputs": [],
   "source": [
    "split = int(len(s)*0.8)\n",
    "train, test = s.iloc[:split], s.iloc[split:]\n",
    "season = 12\n",
    "naive = s.shift(1).loc[test.index]\n",
    "snaive = s.shift(season).loc[test.index]\n",
    "print('Naive   MAE/RMSE:', mean_absolute_error(test, naive), rmse(test, naive))\n",
    "print('S‑Naive MAE/RMSE:', mean_absolute_error(test, snaive), rmse(test, snaive))\n",
    "ax = train.plot(label='train')\n",
    "test.plot(ax=ax, label='test')\n",
    "snaive.plot(ax=ax, label='seasonal‑naive')\n",
    "plt.legend(); plt.show()"
   ]
  },
  {
   "cell_type": "markdown",
   "id": "bff59473",
   "metadata": {},
   "source": [
    "## 3) ETS forecast and compare"
   ]
  },
  {
   "cell_type": "code",
   "execution_count": null,
   "id": "1b0af8fa",
   "metadata": {},
   "outputs": [],
   "source": [
    "ets = ExponentialSmoothing(train, trend='add', seasonal='add', seasonal_periods=season)\n",
    "fit = ets.fit()\n",
    "fc = fit.forecast(len(test))\n",
    "mae_ets = mean_absolute_error(test, fc)\n",
    "rmse_ets = rmse(test, fc)\n",
    "print('ETS     MAE/RMSE:', mae_ets, rmse_ets)\n",
    "ax = train.plot(label='train')\n",
    "test.plot(ax=ax, label='test')\n",
    "fc.plot(ax=ax, label='ETS forecast')\n",
    "plt.legend(); plt.show()\n",
    "import pandas as pd\n",
    "res = pd.DataFrame({'Model':['Seasonal‑Naive','ETS (additive)'], 'MAE':[mean_absolute_error(test, snaive), mae_ets], 'RMSE':[rmse(test, snaive), rmse_ets]})\n",
    "res"
   ]
  },
  {
   "cell_type": "markdown",
   "id": "803e3e34",
   "metadata": {},
   "source": [
    "## 4) Notes\n",
    "- ETS beats seasonal‑naive on MAE/RMSE by __%.\n",
    "- Clear yearly seasonality; additive components worked well.\n",
    "- Next: try log transform or multiplicative seasonality if variance grows with level."
   ]
  }
 ],
 "metadata": {},
 "nbformat": 4,
 "nbformat_minor": 5
}