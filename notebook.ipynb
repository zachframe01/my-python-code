{
 "cells": [
  {
   "cell_type": "code",
   "execution_count": null,
   "id": "f3c54909",
   "metadata": {},
   "outputs": [],
   "source": [
    "import pandas as pd\n",
    "\n",
    "df = pd.read_csv(\"orders.csv\")"
   ]
  },
  {
   "cell_type": "code",
   "execution_count": 4,
   "id": "d781f9d3",
   "metadata": {},
   "outputs": [
    {
     "name": "stdout",
     "output_type": "stream",
     "text": [
      "    OrderID      CustomerName                Product     Category  Quantity  \\\n",
      "0      1001        John Smith                 Laptop  Electronics         1   \n",
      "1      1002         Sarah Lee             Headphones  Electronics         2   \n",
      "2      1003          Ali Khan           Office Chair    Furniture         1   \n",
      "3      1004        Alice Wong              Desk Lamp    Furniture         3   \n",
      "4      1005     Carlos Mendez               Keyboard  Electronics         2   \n",
      "5      1006      Nora Ibrahim               Notebook   Stationery         5   \n",
      "6      1007       Emily Davis          Standing Desk    Furniture         1   \n",
      "7      1008        James Park                Monitor  Electronics         2   \n",
      "8      1009       Maria Rossi                    Pen   Stationery        10   \n",
      "9      1010  Takeshi Nakamura                  Mouse  Electronics         1   \n",
      "10     1011     Sophie Martin                 Webcam  Electronics         1   \n",
      "11     1012         Raj Patel           File Cabinet    Furniture         2   \n",
      "12     1013       Emma Wilson                Stapler   Stationery         3   \n",
      "13     1014   Diego Rodriguez              USB Drive  Electronics         5   \n",
      "14     1015         Lisa Chen              Bookshelf    Furniture         1   \n",
      "15     1016      Ahmed Hassan          Printer Paper   Stationery        20   \n",
      "16     1017     Anna Kowalski         Wireless Mouse  Electronics         2   \n",
      "17     1018     Michael Brown         Desk Organizer    Furniture         1   \n",
      "18     1019       Yuki Tanaka             Calculator  Electronics         1   \n",
      "19     1020   Fatima Al-Zahra             Whiteboard    Furniture         1   \n",
      "20     1021    David Thompson           Highlighters   Stationery         8   \n",
      "21     1022    Isabella Silva      Bluetooth Speaker  Electronics         1   \n",
      "22     1023    Oliver Schmidt           Office Plant    Furniture         2   \n",
      "23     1024        Zara Ahmed           Sticky Notes   Stationery        15   \n",
      "24     1025    Lucas Anderson           Tablet Stand  Electronics         1   \n",
      "25     1026      Chloe Dubois         Paper Shredder  Electronics         1   \n",
      "26     1027     Miguel Torres         Desk Chair Mat    Furniture         1   \n",
      "27     1028       Nina Petrov           Binder Clips   Stationery        12   \n",
      "28     1029      Seo-yeon Kim      Wireless Keyboard  Electronics         1   \n",
      "29     1030   Giuseppe Romano          Desk Calendar    Furniture         1   \n",
      "30     1031      Amira Hassan                USB Hub  Electronics         1   \n",
      "31     1032     Thomas Müller       Document Scanner  Electronics         1   \n",
      "32     1033   Sofia Rodriguez  Desk Drawer Organizer    Furniture         1   \n",
      "33     1034      Alex Johnson            Index Cards   Stationery       100   \n",
      "34     1035     Yuki Yamamoto          Monitor Stand  Electronics         1   \n",
      "35     1036     Emma Thompson     Desk Lamp with USB    Furniture         1   \n",
      "36     1037     Carlos Santos       Wireless Earbuds  Electronics         1   \n",
      "37     1038    Leila Mansouri               Desk Pad    Furniture         1   \n",
      "38     1039        Daniel Kim            Power Strip  Electronics         2   \n",
      "39     1040      Anna Ivanova             Desk Clock    Furniture         1   \n",
      "\n",
      "     Price   OrderDate Shipped       Country  \n",
      "0   1200.0  2024-06-01     Yes           USA  \n",
      "1    150.0  2024-06-03      No        Canada  \n",
      "2    300.0  2024-06-04     Yes           UAE  \n",
      "3     45.0  2024-06-05     Yes     Singapore  \n",
      "4     80.0  2024-06-06      No        Mexico  \n",
      "5      5.0  2024-06-07     Yes           UAE  \n",
      "6    450.0  2024-06-08     Yes            UK  \n",
      "7    220.0  2024-06-09      No   South Korea  \n",
      "8      1.5  2024-06-10     Yes         Italy  \n",
      "9     35.0  2024-06-11     Yes         Japan  \n",
      "10    85.0  2024-06-12     Yes        France  \n",
      "11   180.0  2024-06-13      No         India  \n",
      "12    12.0  2024-06-14     Yes     Australia  \n",
      "13    25.0  2024-06-15     Yes         Spain  \n",
      "14   280.0  2024-06-16      No         China  \n",
      "15     8.0  2024-06-17     Yes         Egypt  \n",
      "16    45.0  2024-06-18     Yes        Poland  \n",
      "17    65.0  2024-06-19      No           USA  \n",
      "18    15.0  2024-06-20     Yes         Japan  \n",
      "19   120.0  2024-06-21     Yes  Saudi Arabia  \n",
      "20     3.5  2024-06-22      No        Canada  \n",
      "21    95.0  2024-06-23     Yes        Brazil  \n",
      "22    35.0  2024-06-24     Yes       Germany  \n",
      "23     4.0  2024-06-25      No      Pakistan  \n",
      "24    28.0  2024-06-26     Yes        Sweden  \n",
      "25    75.0  2024-06-27     Yes        France  \n",
      "26    22.0  2024-06-28      No     Argentina  \n",
      "27     2.5  2024-06-29     Yes        Russia  \n",
      "28   110.0  2024-06-30     Yes   South Korea  \n",
      "29    18.0  2024-07-01      No         Italy  \n",
      "30    32.0  2024-07-02     Yes       Morocco  \n",
      "31   140.0  2024-07-03     Yes       Germany  \n",
      "32    42.0  2024-07-04      No      Colombia  \n",
      "33     0.8  2024-07-05     Yes           USA  \n",
      "34    55.0  2024-07-06     Yes         Japan  \n",
      "35    68.0  2024-07-07      No            UK  \n",
      "36   125.0  2024-07-08     Yes      Portugal  \n",
      "37    28.0  2024-07-09     Yes          Iran  \n",
      "38    18.0  2024-07-10      No   South Korea  \n",
      "39    35.0  2024-07-11     Yes       Ukraine  \n"
     ]
    }
   ],
   "source": [
    "print(df)\n"
   ]
  },
  {
   "cell_type": "code",
   "execution_count": null,
   "id": "4d5e9c9e",
   "metadata": {},
   "outputs": [],
   "source": [
    "df.head()   "
   ]
  },
  {
   "cell_type": "code",
   "execution_count": 7,
   "id": "05926aea",
   "metadata": {},
   "outputs": [
    {
     "data": {
      "text/plain": [
       "Index(['OrderID', 'CustomerName', 'Product', 'Category', 'Quantity', 'Price',\n",
       "       'OrderDate', 'Shipped', 'Country'],\n",
       "      dtype='object')"
      ]
     },
     "execution_count": 7,
     "metadata": {},
     "output_type": "execute_result"
    }
   ],
   "source": [
    "df.columns\n"
   ]
  },
  {
   "cell_type": "code",
   "execution_count": null,
   "id": "2a6747b0",
   "metadata": {},
   "outputs": [],
   "source": [
    "set(df[\"Country\"])"
   ]
  },
  {
   "cell_type": "code",
   "execution_count": null,
   "id": "21116fec",
   "metadata": {},
   "outputs": [],
   "source": []
  }
 ],
 "metadata": {
  "kernelspec": {
   "display_name": "Python 3",
   "language": "python",
   "name": "python3"
  },
  "language_info": {
   "codemirror_mode": {
    "name": "ipython",
    "version": 3
   },
   "file_extension": ".py",
   "mimetype": "text/x-python",
   "name": "python",
   "nbconvert_exporter": "python",
   "pygments_lexer": "ipython3",
   "version": "3.13.3"
  }
 },
 "nbformat": 4,
 "nbformat_minor": 5
}
